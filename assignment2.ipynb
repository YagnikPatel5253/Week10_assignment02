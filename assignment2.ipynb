{
 "cells": [
  {
   "cell_type": "markdown",
   "id": "1468ecbe-6d30-402e-bfb6-b733511529d5",
   "metadata": {},
   "source": [
    "Q1. What are the three measures of central tendency?"
   ]
  },
  {
   "cell_type": "raw",
   "id": "d50b73c3-f321-45d7-bab4-a98da9924cef",
   "metadata": {},
   "source": [
    "The three measures of central tendency are:\n",
    "\n",
    "1. Mean: The arithmetic average of a set of values, calculated by adding up all the values and dividing by the number of values.\n",
    "2. Median: The middle value in a sorted list of values. If there is an even number of values, the median is the average of the two middle values.\n",
    "3. Mode: The value that appears most frequently in a set of values. A set of values can have one mode, more than one mode (multimodal), or no mode if all values occur with the same frequency."
   ]
  },
  {
   "cell_type": "markdown",
   "id": "8ed7d227-e273-45a8-bd59-e8d4b4488f5c",
   "metadata": {},
   "source": [
    "Q2. What is the difference between the mean, median, and mode? How are they used to measure the\n",
    "central tendency of a dataset?"
   ]
  },
  {
   "cell_type": "raw",
   "id": "5e74d614-c792-49b9-86e0-290944412e48",
   "metadata": {},
   "source": [
    "The mean, median, and mode are all measures of central tendency, but they represent different aspects of the data and are calculated differently.\n",
    "\n",
    "Mean: The mean is calculated by summing up all the values in a dataset and dividing by the total number of values. It gives you an average value of the dataset. The mean is sensitive to extreme values, also known as outliers, which can skew the result.\n",
    "\n",
    "Median: The median is the middle value of a dataset when it is sorted in ascending or descending order. If there is an even number of values, the median is the average of the two middle values. The median is less affected by extreme values compared to the mean, making it a more robust measure of central tendency, especially in datasets with outliers.\n",
    "\n",
    "Mode: The mode is the value that appears most frequently in a dataset. A dataset can have one mode, more than one mode (multimodal), or no mode if all values occur with the same frequency. The mode is particularly useful for categorical or discrete data but can also be applied to continuous data."
   ]
  },
  {
   "cell_type": "code",
   "execution_count": 1,
   "id": "83565b9e-b352-4097-82a6-a705e9db4278",
   "metadata": {},
   "outputs": [
    {
     "name": "stdout",
     "output_type": "stream",
     "text": [
      "Mean: 50.0\n",
      "Median: 50.0\n",
      "Mode: 10\n"
     ]
    }
   ],
   "source": [
    "import numpy as np\n",
    "\n",
    "# Example dataset\n",
    "data = [10, 20, 30, 40, 50, 60, 70, 80, 90]\n",
    "\n",
    "# Mean\n",
    "mean = np.mean(data)\n",
    "\n",
    "# Median\n",
    "median = np.median(data)\n",
    "\n",
    "# Mode\n",
    "mode = np.argmax(np.bincount(data))\n",
    "\n",
    "print(\"Mean:\", mean)\n",
    "print(\"Median:\", median)\n",
    "print(\"Mode:\", mode)\n"
   ]
  },
  {
   "cell_type": "markdown",
   "id": "0e20590b-a127-4f6d-b91f-ad61f7abc9fa",
   "metadata": {},
   "source": [
    "Q3. Measure the three measures of central tendency for the given height data:"
   ]
  },
  {
   "cell_type": "code",
   "execution_count": 2,
   "id": "91febe99-7825-4ae6-b4ce-9083b36930e7",
   "metadata": {},
   "outputs": [
    {
     "name": "stdout",
     "output_type": "stream",
     "text": [
      "Mean height: 177.01875\n",
      "Median height: 177.0\n",
      "Mode height: 178.0\n"
     ]
    }
   ],
   "source": [
    "import numpy as np\n",
    "\n",
    "# Given height data\n",
    "height_data = [178, 177, 176, 177, 178.2, 178, 175, 179, 180, 175, 178.9, 176.2, 177, 172.5, 178, 176.5]\n",
    "\n",
    "# Mean\n",
    "mean_height = np.mean(height_data)\n",
    "\n",
    "# Median\n",
    "median_height = np.median(height_data)\n",
    "\n",
    "# Mode\n",
    "mode_height = float(np.argmax(np.bincount(height_data)))\n",
    "\n",
    "print(\"Mean height:\", mean_height)\n",
    "print(\"Median height:\", median_height)\n",
    "print(\"Mode height:\", mode_height)\n"
   ]
  },
  {
   "cell_type": "markdown",
   "id": "0228ed5f-4565-4acc-ae9a-5f7ba063c83e",
   "metadata": {},
   "source": [
    "Q4. Find the standard deviation for the given data:\n",
    "[178,177,176,177,178.2,178,175,179,180,175,178.9,176.2,177,172.5,178,176.5]"
   ]
  },
  {
   "cell_type": "code",
   "execution_count": 3,
   "id": "1ff02b9c-5e9d-4bea-952d-a4c4e5920b12",
   "metadata": {},
   "outputs": [
    {
     "name": "stdout",
     "output_type": "stream",
     "text": [
      "Standard deviation: 1.7885814036548633\n"
     ]
    }
   ],
   "source": [
    "import numpy as np\n",
    "\n",
    "# Given data\n",
    "data = [178, 177, 176, 177, 178.2, 178, 175, 179, 180, 175, 178.9, 176.2, 177, 172.5, 178, 176.5]\n",
    "\n",
    "# Calculate standard deviation\n",
    "std_dev = np.std(data)\n",
    "\n",
    "print(\"Standard deviation:\", std_dev)\n"
   ]
  },
  {
   "cell_type": "markdown",
   "id": "5cf5d559-0131-4677-b5d6-1218728e712b",
   "metadata": {},
   "source": [
    "Q5. How are measures of dispersion such as range, variance, and standard deviation used to describe\n",
    "the spread of a dataset? Provide an example."
   ]
  },
  {
   "cell_type": "raw",
   "id": "4a12b21a-5283-464a-90de-5abba0f67dbf",
   "metadata": {},
   "source": [
    "Measures of dispersion, such as range, variance, and standard deviation, are used to describe the spread or variability of a dataset. They provide insights into how spread out the values in the dataset are from the central tendency measures like mean, median, or mode.\n",
    "\n",
    "Here's how each measure is used:\n",
    "\n",
    "Range: The range is the simplest measure of dispersion and represents the difference between the maximum and minimum values in the dataset. It gives a rough idea of how spread out the data is, but it can be influenced by extreme values.\n",
    "\n",
    "Variance: The variance calculates the average of the squared differences between each data point and the mean of the dataset. A higher variance indicates greater variability in the dataset. However, the variance is not in the same units as the original data, making it less intuitive to interpret.\n",
    "\n",
    "Standard Deviation: The standard deviation is the square root of the variance. It measures the average distance of each data point from the mean. It is often preferred over variance as it is in the same units as the original data and provides a more interpretable measure of spread."
   ]
  },
  {
   "cell_type": "code",
   "execution_count": 4,
   "id": "84143a00-fc87-49ee-926a-2766872549ef",
   "metadata": {},
   "outputs": [
    {
     "name": "stdout",
     "output_type": "stream",
     "text": [
      "Range: 7.5\n",
      "Variance: 3.199023437500001\n",
      "Standard Deviation: 1.7885814036548633\n"
     ]
    }
   ],
   "source": [
    "import numpy as np\n",
    "\n",
    "# Example dataset\n",
    "data = [178, 177, 176, 177, 178.2, 178, 175, 179, 180, 175, 178.9, 176.2, 177, 172.5, 178, 176.5]\n",
    "\n",
    "# Range\n",
    "data_range = np.max(data) - np.min(data)\n",
    "\n",
    "# Variance\n",
    "variance = np.var(data)\n",
    "\n",
    "# Standard Deviation\n",
    "std_dev = np.std(data)\n",
    "\n",
    "print(\"Range:\", data_range)\n",
    "print(\"Variance:\", variance)\n",
    "print(\"Standard Deviation:\", std_dev)\n"
   ]
  },
  {
   "cell_type": "markdown",
   "id": "f21153be-e419-401f-b9b6-d0a5e3186641",
   "metadata": {},
   "source": [
    "Q6. What is a Venn diagram?"
   ]
  },
  {
   "cell_type": "raw",
   "id": "c1abfeb9-492c-4b01-8fe4-f0825276aa95",
   "metadata": {},
   "source": [
    "A Venn diagram is a graphical representation of the relationships between different sets or groups of data. It consists of overlapping circles, each representing a set, with the overlap representing the intersection of the sets.\n",
    "\n",
    "In a Venn diagram:\n",
    "\n",
    "- Each circle typically represents a category or a set.\n",
    "- The overlap between circles shows the elements that are common to both sets.\n",
    "- The non-overlapping parts of the circles show the elements that are unique to each set.\n",
    "\n",
    "Venn diagrams are commonly used in various fields such as mathematics, logic, statistics, and computer science to visually illustrate the relationships between different sets or groups of data. They are especially useful for comparing and contrasting the characteristics of different sets or categories."
   ]
  },
  {
   "cell_type": "markdown",
   "id": "3264da14-9898-4a78-8adf-159b8ee511c5",
   "metadata": {},
   "source": [
    "Q7. For the two given sets A = (2,3,4,5,6,7) & B = (0,2,6,8,10). Find:\n",
    "(i) A B\n",
    "(ii) A ⋃ B"
   ]
  },
  {
   "cell_type": "code",
   "execution_count": 5,
   "id": "5c6a63d4-fe2b-4bdf-ab46-a2cd2aa57e8d",
   "metadata": {},
   "outputs": [
    {
     "name": "stdout",
     "output_type": "stream",
     "text": [
      "Intersection (A ∩ B): {2, 6}\n",
      "Union (A ∪ B): {0, 2, 3, 4, 5, 6, 7, 8, 10}\n"
     ]
    }
   ],
   "source": [
    "# Given sets\n",
    "A = {2, 3, 4, 5, 6, 7}\n",
    "B = {0, 2, 6, 8, 10}\n",
    "\n",
    "# Intersection (A ∩ B)\n",
    "intersection = A.intersection(B)\n",
    "\n",
    "# Union (A ∪ B)\n",
    "union = A.union(B)\n",
    "\n",
    "print(\"Intersection (A ∩ B):\", intersection)\n",
    "print(\"Union (A ∪ B):\", union)\n"
   ]
  },
  {
   "cell_type": "markdown",
   "id": "56d171e5-897e-4a9a-ba0a-aa210ba4acf2",
   "metadata": {},
   "source": [
    "Q8. What do you understand about skewness in data?"
   ]
  },
  {
   "cell_type": "raw",
   "id": "31b48eaa-5811-49e6-b207-622ff11ca425",
   "metadata": {},
   "source": [
    "In Python, skewness in data can be measured using statistical functions available in libraries like NumPy or SciPy. Specifically, you can calculate the skewness using the skew() function from the SciPy library"
   ]
  },
  {
   "cell_type": "code",
   "execution_count": 6,
   "id": "a2d3f448-5d9d-4a77-b294-7c288f0cbc6f",
   "metadata": {},
   "outputs": [
    {
     "name": "stdout",
     "output_type": "stream",
     "text": [
      "Skewness of the data: 0.0\n"
     ]
    }
   ],
   "source": [
    "from scipy.stats import skew\n",
    "\n",
    "# Example data\n",
    "data = [1, 2, 3, 4, 5, 6, 7, 8, 9, 10]\n",
    "\n",
    "# Calculate skewness\n",
    "skewness = skew(data)\n",
    "\n",
    "print(\"Skewness of the data:\", skewness)\n"
   ]
  },
  {
   "cell_type": "markdown",
   "id": "4c63310f-c2bb-4039-af4c-5764dcfa20a1",
   "metadata": {},
   "source": [
    "Q9. If a data is right skewed then what will be the position of median with respect to mean?"
   ]
  },
  {
   "cell_type": "raw",
   "id": "bb631369-2139-4538-884b-33274b108ef3",
   "metadata": {},
   "source": [
    "So, in a right-skewed distribution, the median will be positioned to the left of the mean."
   ]
  },
  {
   "cell_type": "markdown",
   "id": "6a48a94e-550b-4169-9a12-14f1532a4237",
   "metadata": {},
   "source": [
    "Q10. Explain the difference between covariance and correlation. How are these measures used in\n",
    "statistical analysis?"
   ]
  },
  {
   "cell_type": "raw",
   "id": "2e9ec3f0-bec2-423f-9517-a9fe030e3c4a",
   "metadata": {},
   "source": [
    "Covariance and correlation are both measures used to quantify the relationship between two variables in statistical analysis, but they have some key differences:\n",
    "\n",
    "Covariance:\n",
    "\n",
    "Covariance measures the degree to which two variables vary together. It indicates the direction of the linear relationship between two variables.\n",
    "It can take on any value, positive, negative, or zero, which indicates the direction of the relationship. A positive covariance indicates that the variables tend to move in the same direction, while a negative covariance indicates that they move in opposite directions.\n",
    "However, covariance does not provide information about the strength of the relationship or how closely the variables are related.\n",
    "Correlation:\n",
    "\n",
    "Correlation is a standardized measure of the linear relationship between two variables. It indicates both the direction and strength of the relationship.\n",
    "Correlation coefficients range from -1 to 1. A correlation of +1 indicates a perfect positive linear relationship, -1 indicates a perfect negative linear relationship, and 0 indicates no linear relationship.\n",
    "Unlike covariance, correlation is unitless and scale-invariant, making it easier to interpret and compare across different datasets.\n",
    "In statistical analysis, covariance and correlation are used for various purposes, including:\n",
    "\n",
    "Understanding the relationship between two variables: Covariance and correlation help to assess how changes in one variable are associated with changes in another variable.\n",
    "Predictive modeling: Correlation is often used in feature selection for predictive modeling to identify the most relevant features that are highly correlated with the target variable.\n",
    "Portfolio management: Covariance and correlation are used in finance to measure the relationship between different assets in a portfolio. They help investors diversify their portfolios by selecting assets with low correlation to reduce risk."
   ]
  },
  {
   "cell_type": "code",
   "execution_count": 7,
   "id": "ebd2f6be-e6ae-486e-a8ab-2ccc00d13caa",
   "metadata": {},
   "outputs": [
    {
     "name": "stdout",
     "output_type": "stream",
     "text": [
      "Covariance: -2.5\n",
      "Correlation coefficient: -0.9999999999999999\n"
     ]
    }
   ],
   "source": [
    "import numpy as np\n",
    "\n",
    "# Example data\n",
    "x = np.array([1, 2, 3, 4, 5])\n",
    "y = np.array([5, 4, 3, 2, 1])\n",
    "\n",
    "# Calculate covariance\n",
    "covariance = np.cov(x, y)[0, 1]\n",
    "\n",
    "# Calculate correlation coefficient\n",
    "correlation_coefficient = np.corrcoef(x, y)[0, 1]\n",
    "\n",
    "print(\"Covariance:\", covariance)\n",
    "print(\"Correlation coefficient:\", correlation_coefficient)\n"
   ]
  },
  {
   "cell_type": "markdown",
   "id": "2afb1c1e-da20-43b3-a7cd-355bd31170e0",
   "metadata": {},
   "source": [
    "Q11. What is the formula for calculating the sample mean? Provide an example calculation for a\n",
    "dataset."
   ]
  },
  {
   "cell_type": "raw",
   "id": "1a444e0d-5538-4c2d-9649-b56284b10f7c",
   "metadata": {},
   "source": [
    "xi represents each individual value in the dataset.\n",
    "n represents the number of values in the dataset."
   ]
  },
  {
   "cell_type": "code",
   "execution_count": 9,
   "id": "db17f644-ee6f-4970-bf8d-f10c607f38af",
   "metadata": {},
   "outputs": [
    {
     "name": "stdout",
     "output_type": "stream",
     "text": [
      "Sample Mean: 30.0\n"
     ]
    }
   ],
   "source": [
    "# Example dataset\n",
    "data = [10, 20, 30, 40, 50]\n",
    "\n",
    "# Calculate the sample mean\n",
    "sample_mean = sum(data) / len(data)\n",
    "\n",
    "print(\"Sample Mean:\", sample_mean)"
   ]
  },
  {
   "cell_type": "markdown",
   "id": "00bf4b28-560e-4d82-89e5-c07eb8692672",
   "metadata": {},
   "source": [
    "Q12. For a normal distribution data what is the relationship between its measure of central tendency?"
   ]
  },
  {
   "cell_type": "raw",
   "id": "41684d38-1fb9-4f94-af1b-bdac71d85540",
   "metadata": {},
   "source": [
    "For a normal distribution, the relationship between its measures of central tendency (mean, median, and mode) is as follows:\n",
    "\n",
    "1. Mean: In a normal distribution, the mean, median, and mode are all equal and located at the center of the distribution. This means that the mean of a normal distribution is equal to its median, which is also equal to its mode. The mean is often considered the most representative measure of central tendency for a normal distribution.\n",
    "\n",
    "2. Median: As mentioned above, in a normal distribution, the median is equal to the mean and mode. Since the normal distribution is symmetrically distributed around the mean, the median will also be located at the center of the distribution.\n",
    "\n",
    "3. Mode: In a normal distribution, the mode is also equal to the mean and median. This is because the normal distribution is symmetric, with the highest point (peak) of the distribution occurring at the mean.\n",
    "\n",
    "In summary, for a normal distribution, the mean, median, and mode are all equal and located at the center of the distribution. This reflects the symmetrical and bell-shaped nature of the normal distribution."
   ]
  },
  {
   "cell_type": "markdown",
   "id": "bd143ad7-a4d3-4bb8-97a5-bd5c010c90fe",
   "metadata": {},
   "source": [
    "Q13. How is covariance different from correlation?"
   ]
  },
  {
   "cell_type": "raw",
   "id": "79d8df30-721d-4735-81f9-a6cce5229f60",
   "metadata": {},
   "source": [
    "Covariance:\n",
    "\n",
    "Covariance measures the degree to which two variables vary together. It indicates the direction of the linear relationship between two variables.\n",
    "Covariance can take on any value, positive, negative, or zero, which indicates the direction of the relationship. A positive covariance indicates that the variables tend to move in the same direction, while a negative covariance indicates that they move in opposite directions.\n",
    "However, covariance does not provide information about the strength of the relationship or how closely the variables are related.\n",
    "Correlation:\n",
    "\n",
    "Correlation is a standardized measure of the linear relationship between two variables. It indicates both the direction and strength of the relationship.\n",
    "Correlation coefficients range from -1 to 1. A correlation of +1 indicates a perfect positive linear relationship, -1 indicates a perfect negative linear relationship, and 0 indicates no linear relationship.\n",
    "Unlike covariance, correlation is unitless and scale-invariant, making it easier to interpret and compare across different datasets."
   ]
  },
  {
   "cell_type": "code",
   "execution_count": 10,
   "id": "50af978c-63ac-405e-9ea9-797f784309cd",
   "metadata": {},
   "outputs": [
    {
     "name": "stdout",
     "output_type": "stream",
     "text": [
      "Covariance: -2.5\n",
      "Correlation coefficient: -0.9999999999999999\n"
     ]
    }
   ],
   "source": [
    "import numpy as np\n",
    "\n",
    "# Example dataset\n",
    "x = np.array([1, 2, 3, 4, 5])\n",
    "y = np.array([5, 4, 3, 2, 1])\n",
    "\n",
    "# Calculate covariance\n",
    "covariance = np.cov(x, y)[0, 1]\n",
    "\n",
    "# Calculate correlation coefficient\n",
    "correlation_coefficient = np.corrcoef(x, y)[0, 1]\n",
    "\n",
    "print(\"Covariance:\", covariance)\n",
    "print(\"Correlation coefficient:\", correlation_coefficient)\n"
   ]
  },
  {
   "cell_type": "markdown",
   "id": "b82594b5-18bf-4c90-adb4-3ff487bf6dce",
   "metadata": {},
   "source": [
    "Q14. How do outliers affect measures of central tendency and dispersion? Provide an example."
   ]
  },
  {
   "cell_type": "raw",
   "id": "4b657204-1c4a-4cb7-b62f-8fc6fa9c0cce",
   "metadata": {},
   "source": [
    "Outliers can have a significant impact on measures of central tendency and dispersion:\n",
    "\n",
    "Measures of Central Tendency:\n",
    "\n",
    "Outliers can skew the mean (average) towards their extreme values. A single outlier with a very large or very small value can significantly influence the mean, pulling it away from the center of the dataset.\n",
    "However, outliers have little to no effect on the median and mode. The median is resistant to the influence of outliers because it only depends on the position of the values in the dataset, not their actual values. Similarly, the mode is determined by the most frequently occurring value(s) in the dataset, which are less likely to be influenced by outliers.\n",
    "Measures of Dispersion:\n",
    "\n",
    "Outliers can greatly affect measures of dispersion such as the range, variance, and standard deviation. Since these measures are based on the spread of values around the central tendency, outliers can inflate these measures, especially the range and standard deviation.\n",
    "However, the effect of outliers on measures of dispersion may vary depending on the specific measure and the characteristics of the dataset."
   ]
  },
  {
   "cell_type": "code",
   "execution_count": 11,
   "id": "f5badfa4-d81f-42a9-8728-8943ecf5a7fb",
   "metadata": {},
   "outputs": [
    {
     "name": "stdout",
     "output_type": "stream",
     "text": [
      "Mean with outliers: 191.66666666666666\n",
      "Median with outliers: 35.0\n",
      "Mode with outliers: 10\n",
      "Range with outliers: 990\n",
      "Variance with outliers: 130847.22222222223\n",
      "Standard deviation with outliers: 361.7281053805776\n"
     ]
    }
   ],
   "source": [
    "import numpy as np\n",
    "\n",
    "# Example dataset with outliers\n",
    "data_with_outliers = np.array([10, 20, 30, 40, 50, 1000])\n",
    "\n",
    "# Calculate measures of central tendency\n",
    "mean_with_outliers = np.mean(data_with_outliers)\n",
    "median_with_outliers = np.median(data_with_outliers)\n",
    "mode_with_outliers = np.argmax(np.bincount(data_with_outliers))\n",
    "\n",
    "# Calculate measures of dispersion\n",
    "range_with_outliers = np.max(data_with_outliers) - np.min(data_with_outliers)\n",
    "variance_with_outliers = np.var(data_with_outliers)\n",
    "std_dev_with_outliers = np.std(data_with_outliers)\n",
    "\n",
    "print(\"Mean with outliers:\", mean_with_outliers)\n",
    "print(\"Median with outliers:\", median_with_outliers)\n",
    "print(\"Mode with outliers:\", mode_with_outliers)\n",
    "print(\"Range with outliers:\", range_with_outliers)\n",
    "print(\"Variance with outliers:\", variance_with_outliers)\n",
    "print(\"Standard deviation with outliers:\", std_dev_with_outliers)\n"
   ]
  },
  {
   "cell_type": "code",
   "execution_count": null,
   "id": "5c2e9693-c7d8-4201-906f-014464f8fa41",
   "metadata": {},
   "outputs": [],
   "source": []
  }
 ],
 "metadata": {
  "kernelspec": {
   "display_name": "Python 3 (ipykernel)",
   "language": "python",
   "name": "python3"
  },
  "language_info": {
   "codemirror_mode": {
    "name": "ipython",
    "version": 3
   },
   "file_extension": ".py",
   "mimetype": "text/x-python",
   "name": "python",
   "nbconvert_exporter": "python",
   "pygments_lexer": "ipython3",
   "version": "3.10.8"
  }
 },
 "nbformat": 4,
 "nbformat_minor": 5
}
